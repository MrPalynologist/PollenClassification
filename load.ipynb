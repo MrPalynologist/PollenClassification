{
 "cells": [
  {
   "cell_type": "code",
   "execution_count": 1,
   "id": "81a258db-bf22-4f61-b860-da583041d6a1",
   "metadata": {
    "tags": []
   },
   "outputs": [],
   "source": [
    "import numpy as np\n",
    "import pandas as pd\n",
    "import os\n",
    "import cv2\n",
    "import matplotlib.pyplot as plt\n",
    "from sklearn.model_selection import train_test_split\n",
    "import tensorflow as tf\n",
    "from sklearn.metrics import f1_score\n",
    "from keras.utils import np_utils\n",
    "from sklearn.metrics import confusion_matrix\n",
    "from sklearn.preprocessing import LabelEncoder\n",
    "from keras.models import Sequential\n",
    "import seaborn as sns\n",
    "#from keras.layers import Dense, Dropout, Flatten, Conv2D, MaxPooling2D, LeakyReLU, BatchNormalization\n",
    "#from tensorflow.keras import layers, initializers, regularizers\n",
    "from tensorflow.keras.models import Sequential\n",
    "from tensorflow.keras.applications import ResNet152V2\n",
    "from tensorflow.keras import layers, models"
   ]
  },
  {
   "cell_type": "code",
   "execution_count": 2,
   "id": "63dbe4c3-c2f5-4ddb-b5b8-e535b27edb25",
   "metadata": {
    "tags": []
   },
   "outputs": [],
   "source": [
    "model_path = \"06d01m2024ylr4grayep50.h5\" #model name of which model you want to load"
   ]
  },
  {
   "cell_type": "code",
   "execution_count": 3,
   "id": "91d4cc5d-0fad-4140-8c73-ebc00b1fcc5f",
   "metadata": {
    "tags": []
   },
   "outputs": [],
   "source": [
    "from tensorflow.keras.models import load_model\n",
    "model = load_model(os.path.join('models',model_path))"
   ]
  },
  {
   "cell_type": "code",
   "execution_count": 4,
   "id": "156ade7c-8a37-4795-8649-c1267bd2a715",
   "metadata": {
    "tags": []
   },
   "outputs": [
    {
     "ename": "NameError",
     "evalue": "name 'datasetpath' is not defined",
     "output_type": "error",
     "traceback": [
      "\u001b[1;31m---------------------------------------------------------------------------\u001b[0m",
      "\u001b[1;31mNameError\u001b[0m                                 Traceback (most recent call last)",
      "Cell \u001b[1;32mIn[4], line 1\u001b[0m\n\u001b[1;32m----> 1\u001b[0m path  \u001b[38;5;241m=\u001b[39m \u001b[43mdatasetpath\u001b[49m\n\u001b[0;32m      2\u001b[0m \u001b[38;5;28;01mdef\u001b[39;00m \u001b[38;5;21mprocess_img\u001b[39m(img, size \u001b[38;5;241m=\u001b[39m (\u001b[38;5;241m224\u001b[39m,\u001b[38;5;241m224\u001b[39m)):\n\u001b[0;32m      3\u001b[0m     img \u001b[38;5;241m=\u001b[39m cv2\u001b[38;5;241m.\u001b[39mresize(img, size)\n",
      "\u001b[1;31mNameError\u001b[0m: name 'datasetpath' is not defined"
     ]
    }
   ],
   "source": [
    "path  = datasetpath\n",
    "def process_img(img, size = (224,224)):\n",
    "    img = cv2.resize(img, size)\n",
    "    img = img/255\n",
    "    return img "
   ]
  },
  {
   "cell_type": "code",
   "execution_count": null,
   "id": "b98d4964-901e-45ea-8d20-2a6c749583d5",
   "metadata": {
    "tags": []
   },
   "outputs": [],
   "source": [
    "def histogram_equalization(image, size = (224,224)):\n",
    "    image = cv2.resize(image, size)\n",
    "    equalized_image = cv2.equalizeHist(image)\n",
    "    equalized_image = equalized_image/255\n",
    "    return equalized_image"
   ]
  },
  {
   "cell_type": "code",
   "execution_count": null,
   "id": "c7e7c41a-4db3-47b9-bf82-71dd92ccb8d5",
   "metadata": {
    "tags": []
   },
   "outputs": [],
   "source": [
    "def compute_morphological_gradient(image, kernel_size=3, size = (224,224)):\n",
    "    image = cv2.resize(image, size)\n",
    "    kernel = np.ones((kernel_size, kernel_size), np.uint8)\n",
    "    dilation = cv2.dilate(image, kernel, iterations=5)\n",
    "    erosion = cv2.erode(image, kernel, iterations=1)\n",
    "    gradient_image = cv2.subtract(dilation, erosion)\n",
    "    gradient_image = gradient_image/255\n",
    "    return gradient_image"
   ]
  },
  {
   "cell_type": "code",
   "execution_count": null,
   "id": "f5958247-d7bc-464f-ac19-166995ebc03b",
   "metadata": {
    "tags": []
   },
   "outputs": [],
   "source": [
    "import cv2\n",
    "import numpy as np\n",
    "import matplotlib.pyplot as plt\n",
    "\n",
    "def calculate_dtm(image, threshold=28, size = (224, 224)):\n",
    "    # Görüntüyü yükle\n",
    "    input_image = cv2.resize(image, size)\n",
    "\n",
    "    # Sobel türevlerini hesapla\n",
    "    sobelx = cv2.Sobel(input_image, cv2.CV_64F, 1, 0, ksize=3)\n",
    "    sobely = cv2.Sobel(input_image, cv2.CV_64F, 0, 1, ksize=3)\n",
    "\n",
    "    # Gradient magnitude hesapla\n",
    "    dtm = np.sqrt(sobelx**2 + sobely**2)\n",
    "\n",
    "    # Eşikleme uygula\n",
    "    dtm_thresholded = np.where(dtm > threshold, 255, 0).astype(np.uint8)\n",
    "    dtm_thresholded = dtm_thresholded/255\n",
    "    return dtm_thresholded"
   ]
  },
  {
   "cell_type": "code",
   "execution_count": null,
   "id": "21a2d2ca-9b06-484c-bc09-52517da68d43",
   "metadata": {
    "tags": []
   },
   "outputs": [],
   "source": [
    "import cv2\n",
    "import numpy as np\n",
    "from skimage import exposure\n",
    "from skimage import feature\n",
    "import matplotlib.pyplot as plt\n",
    "\n",
    "def compute_hog(image, pixels_per_cell=(16, 16), size = (224, 224)):\n",
    "    image = cv2.resize(image, size)\n",
    "    # Compute HOG features with higher resolution\n",
    "    hog_features, hog_image = feature.hog(image, visualize=True, pixels_per_cell=pixels_per_cell)\n",
    "    # Enhance the contrast of the HOG image\n",
    "    hog_image_rescaled = exposure.rescale_intensity(hog_image, in_range=(0, 28))\n",
    "\n",
    "    return hog_image_rescaled"
   ]
  },
  {
   "cell_type": "code",
   "execution_count": null,
   "id": "55bf2cc0-4cd2-405d-b71e-cd4009cb8fda",
   "metadata": {
    "tags": []
   },
   "outputs": [],
   "source": [
    "def choose(name, image):\n",
    "    if name==\"gray\":\n",
    "        return process_img(image)\n",
    "    else if name==\"histo\":\n",
    "        return histogram_equalization(image)\n",
    "    else if name==\"morpho\":\n",
    "        return compute_morphological_gradient(image)\n",
    "    else if name==\"dtm\":\n",
    "        return calculate_dtm(image)\n",
    "    else if name==\"hog\":\n",
    "        return compute_hog(image)"
   ]
  },
  {
   "cell_type": "code",
   "execution_count": null,
   "id": "e6281808-254a-406f-8e1d-aa4a79eeb8b0",
   "metadata": {
    "tags": []
   },
   "outputs": [],
   "source": [
    "choice = \"gray\" #please choose correct operation that model is trained for.\n",
    "#gray/histo/morpho/dtm/hog"
   ]
  },
  {
   "cell_type": "code",
   "execution_count": null,
   "id": "66b5bdc2-abed-422c-96e2-a2da9a3b2d24",
   "metadata": {
    "tags": []
   },
   "outputs": [],
   "source": [
    "path = datasetpath\n",
    "images, values = [],[]\n",
    "for name in os.listdir(path):\n",
    "    for name2 in os.listdir(os.path.join(path, name)):\n",
    "        if not name2.startswith('.'):\n",
    "            img = cv2.imread(os.path.join(path, name, name2), cv2.IMREAD_GRAYSCALE)\n",
    "            images.append(choose(choice,img))\n",
    "            values.append(name.replace(', ', '_'))\n",
    "            \n",
    "more_images, more_values = images, values\n",
    "\n",
    "from sklearn.preprocessing import LabelEncoder\n",
    "# Sample data with string labels\n",
    "orijinal_liste = more_values\n",
    "labels = sorted(list(set(orijinal_liste)))\n",
    "print(labels)\n",
    "label_encoder = LabelEncoder()\n",
    "numerical_labels = label_encoder.fit_transform(labels)\n",
    "for label, numerical_label in zip(labels, numerical_labels):\n",
    "    print(f'{label} -> {numerical_label}')\n",
    "arr = []\n",
    "for i in more_values:\n",
    "    arr.append(labels.index(i))\n",
    "more_values = arr\n",
    "\n",
    "more_images = np.array(more_images)\n",
    "more_values = np.array(more_values) \n",
    "\n",
    "more_images = np.repeat(more_images[..., np.newaxis], 3, -1)\n",
    "\n",
    "\n",
    "x_train, x_test, y_train, y_test = train_test_split(more_images, arr, test_size=0.5, random_state=42)\n",
    "x_test, x_val, y_test, y_val = train_test_split(x_test, y_test, test_size=0.6, random_state=42)\n",
    "\n",
    "y_val = np.array(y_val)\n",
    "y_train = np.array(y_train)\n",
    "y_test = np.array(y_test)"
   ]
  },
  {
   "cell_type": "code",
   "execution_count": null,
   "id": "f2eb13cb-6a53-4d58-98c9-f6a8d1e76f37",
   "metadata": {
    "tags": []
   },
   "outputs": [],
   "source": [
    "model.evaluate(x_test,y_test)\n",
    "\n",
    "from tensorflow.keras.utils import to_categorical\n",
    "# One-hot encode y_test\n",
    "y_test_hot = to_categorical(y_test, num_classes=len(labels))\n",
    "\n",
    "y_pred = model.predict(x_test)\n",
    "y_pred_classes = np.argmax(y_pred, axis=1)\n",
    "y_test_classes = np.argmax(y_test_hot, axis=1)\n",
    "\n",
    "f1 = f1_score(np.argmax(y_test_hot, axis=1), y_pred_classes, average='weighted')\n",
    "print(\"F1-score: \", f1)\n",
    "\n",
    "confusion_mtx = confusion_matrix(y_test_classes, y_pred_classes)\n",
    "plt.figure(figsize=(12,10))\n",
    "sns.heatmap(confusion_mtx, annot=True, xticklabels=labels, yticklabels=labels)\n",
    "plt.title('Normalized Confusion Matrix')\n",
    "plt.show()\n",
    "\n",
    "fig = plt.figure()\n",
    "plt.plot(history.history['loss'], color='teal', label='loss')\n",
    "plt.plot(history.history['val_loss'], color='orange', label='val_loss')\n",
    "fig.suptitle('Loss', fontsize=20)\n",
    "plt.legend(loc=\"upper left\")\n",
    "plt.show()\n",
    "\n",
    "fig = plt.figure()\n",
    "plt.plot(history.history['sparse_categorical_accuracy'], color='teal', label='accuracy')\n",
    "plt.plot(history.history['val_sparse_categorical_accuracy'], color='orange', label='val_accuracy')\n",
    "fig.suptitle('Accuracy', fontsize=20)\n",
    "plt.legend(loc=\"upper left\")\n",
    "plt.show()"
   ]
  },
  {
   "cell_type": "code",
   "execution_count": null,
   "id": "7731d3d9-9a6a-434e-8242-06d4ff9dffd3",
   "metadata": {},
   "outputs": [],
   "source": []
  }
 ],
 "metadata": {
  "kernelspec": {
   "display_name": "tensorflow2",
   "language": "python",
   "name": "tensorflow2"
  },
  "language_info": {
   "codemirror_mode": {
    "name": "ipython",
    "version": 3
   },
   "file_extension": ".py",
   "mimetype": "text/x-python",
   "name": "python",
   "nbconvert_exporter": "python",
   "pygments_lexer": "ipython3",
   "version": "3.9.17"
  }
 },
 "nbformat": 4,
 "nbformat_minor": 5
}
